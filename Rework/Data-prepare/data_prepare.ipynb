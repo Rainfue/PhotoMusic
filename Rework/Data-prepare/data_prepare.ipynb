{
 "cells": [
  {
   "cell_type": "markdown",
   "id": "7b679dfd",
   "metadata": {},
   "source": [
    "# Импортирование библиотек"
   ]
  },
  {
   "cell_type": "code",
   "execution_count": 1,
   "id": "5d35f8e3",
   "metadata": {},
   "outputs": [],
   "source": [
    "import os\n",
    "import matplotlib.pyplot as plt\n",
    "import seaborn as sns"
   ]
  },
  {
   "cell_type": "markdown",
   "id": "a917024a",
   "metadata": {},
   "source": [
    "# Загрузка данных"
   ]
  },
  {
   "cell_type": "markdown",
   "id": "15594b20",
   "metadata": {},
   "source": [
    "Путь к данным:"
   ]
  },
  {
   "cell_type": "code",
   "execution_count": 19,
   "id": "34e70499",
   "metadata": {},
   "outputs": [
    {
     "data": {
      "text/plain": [
       "True"
      ]
     },
     "execution_count": 19,
     "metadata": {},
     "output_type": "execute_result"
    }
   ],
   "source": [
    "data_path = '../../Data'\n",
    "# проверяем правильность путя\n",
    "os.path.exists(data_path)"
   ]
  },
  {
   "cell_type": "markdown",
   "id": "2f5f3fbe",
   "metadata": {},
   "source": [
    "# Анализ и предобработка данных"
   ]
  },
  {
   "cell_type": "markdown",
   "id": "5c1a4226",
   "metadata": {},
   "source": [
    "В дататасете находятся `train`, `test` и `valid` выборки. Рассмотрим их"
   ]
  },
  {
   "cell_type": "code",
   "execution_count": 27,
   "id": "3ba6885b",
   "metadata": {},
   "outputs": [
    {
     "name": "stdout",
     "output_type": "stream",
     "text": [
      "Выборка - test\n",
      "Классы: ['alternative', 'classical', 'electronics', 'metal', 'pop', 'rap', 'rock']\n",
      "Кол-во фотографий для классов: [500, 500, 500, 500, 500, 500, 500]\n",
      "Общее кол-во фотографий в выборке: 3500\n",
      "-------------------------------\n",
      "Выборка - train\n",
      "Классы: ['alternative', 'classical', 'electronics', 'metal', 'pop', 'rap', 'rock']\n",
      "Кол-во фотографий для классов: [2000, 2000, 2000, 2000, 2000, 2000, 2000]\n",
      "Общее кол-во фотографий в выборке: 14000\n",
      "-------------------------------\n",
      "Выборка - val\n",
      "Классы: ['alternative', 'classical', 'electronics', 'metal', 'pop', 'rap', 'rock']\n",
      "Кол-во фотографий для классов: [500, 500, 500, 500, 500, 500, 500]\n",
      "Общее кол-во фотографий в выборке: 3500\n",
      "-------------------------------\n"
     ]
    }
   ],
   "source": [
    "# проходимся по каждой выборке\n",
    "for part in os.listdir(data_path):\n",
    "    print(f'Выборка - {part}')\n",
    "    # получаем полный путь к выборке\n",
    "    data = os.path.join(data_path, part)\n",
    "    # список кол-ва фотографий в классах\n",
    "    classes_stats = []\n",
    "    # проходимся по каждому классу в выборке\n",
    "    for genre in os.listdir(data):\n",
    "        genre = os.path.join(data, genre)\n",
    "        # добавляем кол-во фотографий в классе\n",
    "        classes_stats.append(len(os.listdir(genre)))\n",
    "    print(f'Классы: {os.listdir(data)}')\n",
    "    print(f'Кол-во фотографий для классов: {classes_stats}')\n",
    "    print(f'Общее кол-во фотографий в выборке: {sum(classes_stats)}')\n",
    "    print('-------------------------------')\n",
    "\n"
   ]
  },
  {
   "cell_type": "code",
   "execution_count": null,
   "id": "6aabbff2",
   "metadata": {},
   "outputs": [],
   "source": []
  }
 ],
 "metadata": {
  "kernelspec": {
   "display_name": ".venv",
   "language": "python",
   "name": "python3"
  },
  "language_info": {
   "codemirror_mode": {
    "name": "ipython",
    "version": 3
   },
   "file_extension": ".py",
   "mimetype": "text/x-python",
   "name": "python",
   "nbconvert_exporter": "python",
   "pygments_lexer": "ipython3",
   "version": "3.10.11"
  }
 },
 "nbformat": 4,
 "nbformat_minor": 5
}
